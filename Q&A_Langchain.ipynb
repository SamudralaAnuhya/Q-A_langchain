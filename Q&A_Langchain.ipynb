{
  "nbformat": 4,
  "nbformat_minor": 0,
  "metadata": {
    "colab": {
      "provenance": [],
      "collapsed_sections": [
        "GAZdDmdYJdzX"
      ],
      "toc_visible": true,
      "mount_file_id": "1CsAo3sISb9umFZzloKxZH19tcNkzBidP",
      "authorship_tag": "ABX9TyNSG+9JOH+i10eNxakG8AtY",
      "include_colab_link": true
    },
    "kernelspec": {
      "name": "python3",
      "display_name": "Python 3"
    },
    "language_info": {
      "name": "python"
    }
  },
  "cells": [
    {
      "cell_type": "markdown",
      "metadata": {
        "id": "view-in-github",
        "colab_type": "text"
      },
      "source": [
        "<a href=\"https://colab.research.google.com/github/SamudralaAnuhya/Q-A_langchain/blob/main/Q%26A_Langchain.ipynb\" target=\"_parent\"><img src=\"https://colab.research.google.com/assets/colab-badge.svg\" alt=\"Open In Colab\"/></a>"
      ]
    },
    {
      "cell_type": "code",
      "source": [
        "# !pip install openai\n",
        "# !pip install langchain-community\n",
        "#!pip install langchain openai docarray\n",
        "#!pip install tiktoken"
      ],
      "metadata": {
        "id": "iZCbdlmV5ysd"
      },
      "execution_count": null,
      "outputs": []
    },
    {
      "cell_type": "markdown",
      "source": [
        "#Langchain"
      ],
      "metadata": {
        "id": "dCN7LhNhJrIs"
      }
    },
    {
      "cell_type": "code",
      "execution_count": null,
      "metadata": {
        "id": "K_O1KrXL4fgf"
      },
      "outputs": [],
      "source": [
        "import openai\n",
        "from google.colab import userdata\n",
        "openai_api_key = userdata.get('OPENAI_API_KEY')\n",
        "print(openai_api_key)"
      ]
    },
    {
      "cell_type": "code",
      "source": [
        "from langchain.chains import RetrievalQA\n",
        "from langchain.chat_models import ChatOpenAI\n",
        "from langchain.document_loaders import CSVLoader\n",
        "from langchain.vectorstores import DocArrayInMemorySearch\n",
        "from IPython.display import display, Markdown\n",
        "from langchain.llms import OpenAI\n",
        "from langchain.indexes import VectorstoreIndexCreator\n",
        "from langchain.embeddings.openai import OpenAIEmbeddings"
      ],
      "metadata": {
        "id": "uJNMemOM5j_U"
      },
      "execution_count": 59,
      "outputs": []
    },
    {
      "cell_type": "code",
      "source": [
        "file = '/content/drive/MyDrive/Colab Notebooks/OutdoorClothingCatalog_1000.csv'\n",
        "loader = CSVLoader(file_path=file)"
      ],
      "metadata": {
        "id": "1tgTgHkg5kB4"
      },
      "execution_count": 31,
      "outputs": []
    },
    {
      "cell_type": "code",
      "source": [
        "docs = loader.load()\n",
        "docs[0]"
      ],
      "metadata": {
        "colab": {
          "base_uri": "https://localhost:8080/"
        },
        "id": "Eya-kZd3-sYY",
        "outputId": "d6870b0b-e1c7-4795-a435-cad3e24cf66b"
      },
      "execution_count": 38,
      "outputs": [
        {
          "output_type": "execute_result",
          "data": {
            "text/plain": [
              "Document(metadata={'source': '/content/drive/MyDrive/Colab Notebooks/OutdoorClothingCatalog_1000.csv', 'row': 0}, page_content=\": 0\\nname: Women's Campside Oxfords\\ndescription: This ultracomfortable lace-to-toe Oxford boasts a super-soft canvas, thick cushioning, and quality construction for a broken-in feel from the first time you put them on. \\n\\nSize & Fit: Order regular shoe size. For half sizes not offered, order up to next whole size. \\n\\nSpecs: Approx. weight: 1 lb.1 oz. per pair. \\n\\nConstruction: Soft canvas material for a broken-in feel and look. Comfortable EVA innersole with Cleansport NXT® antimicrobial odor control. Vintage hunt, fish and camping motif on innersole. Moderate arch contour of innersole. EVA foam midsole for cushioning and support. Chain-tread-inspired molded rubber outsole with modified chain-tread pattern. Imported. \\n\\nQuestions? Please contact us for any inquiries.\")"
            ]
          },
          "metadata": {},
          "execution_count": 38
        }
      ]
    },
    {
      "cell_type": "code",
      "source": [
        "index = VectorstoreIndexCreator(\n",
        "    vectorstore_cls=DocArrayInMemorySearch,\n",
        "    embedding=OpenAIEmbeddings(openai_api_key=openai_api_key)\n",
        ").from_loaders([loader])"
      ],
      "metadata": {
        "id": "oDg7LvVl58ho"
      },
      "execution_count": 32,
      "outputs": []
    },
    {
      "cell_type": "code",
      "source": [
        "query =\"Please list all your shirts with sun protection \\\n",
        "in a table in markdown and summarize each one.\"\n",
        "\n",
        "llm = ChatOpenAI(model='gpt-4-turbo' , temperature =0.0 , openai_api_key = openai_api_key )\n",
        "response = index.query(query, llm = llm)\n",
        "\n",
        "display(Markdown(response))"
      ],
      "metadata": {
        "colab": {
          "base_uri": "https://localhost:8080/",
          "height": 495
        },
        "id": "aVX5cP3v8GNJ",
        "outputId": "4ac2e29e-c00c-40ac-9641-d710b8473ecf"
      },
      "execution_count": 54,
      "outputs": [
        {
          "output_type": "display_data",
          "data": {
            "text/plain": [
              "<IPython.core.display.Markdown object>"
            ],
            "text/markdown": "Here's a table summarizing the shirts with sun protection:\n\n| ID  | Name                                  | Fabric Composition              | Features                                                                                     |\n|-----|---------------------------------------|---------------------------------|----------------------------------------------------------------------------------------------|\n| 618 | Men's Tropical Plaid Short-Sleeve Shirt | 100% Polyester                  | UPF 50+, wrinkle-resistant, front and back cape venting, two front bellows pockets           |\n| 374 | Men's Plaid Tropic Shirt, Short-Sleeve  | 52% Polyester, 48% Nylon        | UPF 50+, wrinkle-free, quick-dry, front and back cape venting, two front bellows pockets     |\n| 535 | Men's TropicVibe Shirt, Short-Sleeve    | 71% Nylon, 29% Polyester        | UPF 50+, wrinkle-resistant, front and back cape venting, two front bellows pockets           |\n| 255 | Sun Shield Shirt                        | 78% Nylon, 22% Lycra Xtra Life fiber | UPF 50+, moisture-wicking, quick-drying, abrasion-resistant, fits over swimsuits             |\n\n### Summary of Each Shirt:\n\n1. **Men's Tropical Plaid Short-Sleeve Shirt (ID 618)**: This shirt offers the highest level of sun protection (UPF 50+), is made entirely of polyester, and is designed to be wrinkle-resistant. It features front and back cape venting for breathability and has two front bellows pockets.\n\n2. **Men's Plaid Tropic Shirt, Short-Sleeve (ID 374)**: Also rated UPF 50+, this shirt blends polyester and nylon for durability and comfort. It is wrinkle-free, quickly evaporates perspiration, and includes similar venting and pocket features as the other shirts.\n\n3. **Men's TropicVibe Shirt, Short-Sleeve (ID 535)**: This shirt combines nylon and polyester, providing UPF 50+ protection and wrinkle resistance. It includes front and back cape venting and two front bellows pockets for functionality.\n\n4. **Sun Shield Shirt (ID 255)**: Made with a blend of nylon and Lycra Xtra Life fiber, this shirt is slightly fitted and extends to the hip. It offers UPF 50+ protection, is moisture-wicking, quick-drying, and abrasion-resistant, making it suitable for wear over swimsuits."
          },
          "metadata": {}
        }
      ]
    },
    {
      "cell_type": "markdown",
      "source": [
        "#step by step by using RAG (come same like above)\n"
      ],
      "metadata": {
        "id": "jbGqABsiBKZ2"
      }
    },
    {
      "cell_type": "code",
      "source": [
        "from langchain.document_loaders import CSVLoader\n",
        "file = '/content/drive/MyDrive/Colab Notebooks/OutdoorClothingCatalog_1000.csv'\n",
        "loader = CSVLoader(file_path=file)\n",
        "docs = loader.load()\n",
        "\n",
        "#embeding\n",
        "from langchain.embeddings import OpenAIEmbeddings\n",
        "embeddings = OpenAIEmbeddings(openai_api_key=openai_api_key)\n",
        "\n",
        "# embed = embeddings.embed_query(\"please suggest the shirt colors available \")\n",
        "# print(len(embed))\n",
        "#print(embed[:3])\n",
        "# o/p : [-0.014402026634070995, -0.0257216045822781, -0.009745975243918771]\n",
        "\n",
        "\n",
        "#vector store\n",
        "db = DocArrayInMemorySearch.from_documents(\n",
        "    docs,\n",
        "    embeddings\n",
        ")\n",
        "\n",
        "# query = \"please suggest the shirt colors available \"\n",
        "# docs = db.similarity_search(query)\n",
        "# len(docs)\n",
        "\n",
        "\n",
        "#retrieve data\n",
        "retriever = db.as_retriever()\n",
        "llm = ChatOpenAI(model='gpt-4-turbo' , temperature =0.0 , openai_api_key = openai_api_key )\n",
        "\n",
        "qa_stuff = RetrievalQA.from_chain_type(\n",
        "    llm=llm,\n",
        "    chain_type=\"stuff\",\n",
        "    retriever=retriever,\n",
        "    verbose=True\n",
        ")\n",
        "\n",
        "\n",
        "query =\"Please list all your shirts with sun protection \\\n",
        "in a table in markdown and summarize each one.\"\n",
        "\n",
        "response = qa_stuff.run(query )\n",
        "\n",
        "display(Markdown(response))\n"
      ],
      "metadata": {
        "colab": {
          "base_uri": "https://localhost:8080/",
          "height": 584
        },
        "id": "5_bdVJp_6lnN",
        "outputId": "3689ef65-fef9-4957-e82b-a1fbb1666d37"
      },
      "execution_count": 56,
      "outputs": [
        {
          "output_type": "stream",
          "name": "stdout",
          "text": [
            "\n",
            "\n",
            "\u001b[1m> Entering new RetrievalQA chain...\u001b[0m\n",
            "\n",
            "\u001b[1m> Finished chain.\u001b[0m\n"
          ]
        },
        {
          "output_type": "display_data",
          "data": {
            "text/plain": [
              "<IPython.core.display.Markdown object>"
            ],
            "text/markdown": "Here's a table summarizing the shirts with sun protection:\n\n| ID  | Name                                  | Fabric Composition              | Features                                                                                     |\n|-----|---------------------------------------|---------------------------------|----------------------------------------------------------------------------------------------|\n| 618 | Men's Tropical Plaid Short-Sleeve Shirt | 100% Polyester                  | UPF 50+, wrinkle-resistant, front and back cape venting, two front bellows pockets           |\n| 374 | Men's Plaid Tropic Shirt, Short-Sleeve | 52% Polyester, 48% Nylon        | UPF 50+, wrinkle-free, quickly evaporates perspiration, front and back cape venting, two front bellows pockets |\n| 535 | Men's TropicVibe Shirt, Short-Sleeve   | 71% Nylon, 29% Polyester        | UPF 50+, wrinkle resistant, front and back cape venting, two front bellows pockets           |\n| 255 | Sun Shield Shirt                       | 78% Nylon, 22% Lycra Xtra Life fiber | UPF 50+, moisture-wicking, quick-drying, abrasion resistant, fits over swimsuits             |\n\n### Summary of Each Shirt:\n\n1. **Men's Tropical Plaid Short-Sleeve Shirt (ID 618)**: This shirt offers the highest level of sun protection (UPF 50+), is made entirely of polyester, and features wrinkle resistance. It includes venting for cooling and practical front pockets.\n\n2. **Men's Plaid Tropic Shirt, Short-Sleeve (ID 374)**: Designed originally for fishing, this shirt combines polyester and nylon for durability and comfort. It also features UPF 50+ sun protection, is wrinkle-free, and has efficient moisture evaporation qualities.\n\n3. **Men's TropicVibe Shirt, Short-Sleeve (ID 535)**: This shirt is a blend of nylon and polyester, providing UPF 50+ protection. It is designed to be wrinkle-resistant and includes venting and pockets similar to the other models.\n\n4. **Sun Shield Shirt (ID 255)**: This shirt is unique with its high nylon and Lycra blend, making it suitable for wear over swimsuits. It offers UPF 50+ protection, is quick-drying, moisture-wicking, and abrasion-resistant, making it ideal for active use."
          },
          "metadata": {}
        }
      ]
    },
    {
      "cell_type": "markdown",
      "source": [
        "#both langchain and retriever for comparison"
      ],
      "metadata": {
        "id": "GAZdDmdYJdzX"
      }
    },
    {
      "cell_type": "code",
      "source": [
        "#langchain\n",
        "file = '/content/drive/MyDrive/Colab Notebooks/OutdoorClothingCatalog_1000.csv'\n",
        "loader = CSVLoader(file_path=file)\n",
        "\n",
        "index = VectorstoreIndexCreator(\n",
        "    vectorstore_cls=DocArrayInMemorySearch,\n",
        "    embedding=OpenAIEmbeddings(openai_api_key=openai_api_key)\n",
        ").from_loaders([loader])\n",
        "\n",
        "query =\"Please list all your shirts with sun protection \\\n",
        "in a table in markdown and summarize each one.\"\n",
        "\n",
        "llm = ChatOpenAI(model='gpt-4-turbo' , temperature =0.0 , openai_api_key = openai_api_key )\n",
        "response = index.query(query, llm = llm)\n",
        "\n",
        "display(Markdown(response))\n",
        "\n",
        "\n",
        "\n",
        "#retrival (embeding , vectorstore , retrieve)\n",
        "file = '/content/drive/MyDrive/Colab Notebooks/OutdoorClothingCatalog_1000.csv'\n",
        "loader = CSVLoader(file_path=file)\n",
        "docs = loader.load()\n",
        "\n",
        "embeddings = OpenAIEmbeddings(openai_api_key=openai_api_key)\n",
        "\n",
        "#vector store\n",
        "db = DocArrayInMemorySearch.from_documents(\n",
        "    docs,\n",
        "    embeddings\n",
        ")\n",
        "\n",
        "#retrieve data\n",
        "retriever = db.as_retriever()\n",
        "llm = ChatOpenAI(model='gpt-4-turbo' , temperature =0.0 , openai_api_key = openai_api_key )\n",
        "\n",
        "qa_stuff = RetrievalQA.from_chain_type(\n",
        "    llm=llm,\n",
        "    chain_type=\"stuff\",\n",
        "    retriever=retriever,\n",
        "    verbose=True\n",
        ")\n",
        "\n",
        "\n",
        "query =\"Please list all your shirts with sun protection \\\n",
        "in a table in markdown and summarize each one.\"\n",
        "\n",
        "response = qa_stuff.run(query )\n",
        "\n",
        "display(Markdown(response))\n"
      ],
      "metadata": {
        "id": "m7LAKWekIswB"
      },
      "execution_count": null,
      "outputs": []
    },
    {
      "cell_type": "code",
      "source": [],
      "metadata": {
        "id": "aFN45-ajIsyp"
      },
      "execution_count": null,
      "outputs": []
    },
    {
      "cell_type": "code",
      "source": [],
      "metadata": {
        "id": "XyjSdJW0Is1j"
      },
      "execution_count": null,
      "outputs": []
    }
  ]
}